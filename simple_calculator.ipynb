{
 "cells": [
  {
   "cell_type": "code",
   "execution_count": 34,
   "id": "4ba9ef99-be4b-426b-bef9-06909483f38b",
   "metadata": {},
   "outputs": [
    {
     "name": "stdin",
     "output_type": "stream",
     "text": [
      "enter your operator, +,-,*,/: only -\n",
      "enter your first number :  500\n",
      "enter your second number :  364\n"
     ]
    },
    {
     "name": "stdout",
     "output_type": "stream",
     "text": [
      "136.0\n"
     ]
    }
   ],
   "source": [
    "# simple calculator \n",
    "calci = input(\"enter your operator, +,-,*,/: only\")\n",
    "num1 = float(input(\"enter your first order number : \"))\n",
    "num2 = float(input(\"enter your second order number : \"))\n",
    "if calci ==\"+\" :\n",
    "    result = (num1 + num2)\n",
    "    print(result)\n",
    "elif calci == \"-\" :\n",
    "    result = (num1 - num2)\n",
    "    print(result)\n",
    "elif calci == \"*\" :\n",
    "    result = (num1 * num2)\n",
    "    print(result)\n",
    "elif calci == \"/\" :\n",
    "    result = (num1 / num2)\n",
    "    print(result)\n",
    "else :\n",
    "    print(f\"error, {calci } ' wrong operator entered'\" )"
   ]
  },
  {
   "cell_type": "code",
   "execution_count": null,
   "id": "705fd455-8e21-453f-a574-af3a927704f2",
   "metadata": {},
   "outputs": [],
   "source": []
  },
  {
   "cell_type": "code",
   "execution_count": null,
   "id": "6e3f0ffa-e9da-48ec-87ef-f11ca640dc0d",
   "metadata": {},
   "outputs": [],
   "source": []
  }
 ],
 "metadata": {
  "kernelspec": {
   "display_name": "Python 3 (ipykernel)",
   "language": "python",
   "name": "python3"
  },
  "language_info": {
   "codemirror_mode": {
    "name": "ipython",
    "version": 3
   },
   "file_extension": ".py",
   "mimetype": "text/x-python",
   "name": "python",
   "nbconvert_exporter": "python",
   "pygments_lexer": "ipython3",
   "version": "3.12.4"
  }
 },
 "nbformat": 4,
 "nbformat_minor": 5
}
